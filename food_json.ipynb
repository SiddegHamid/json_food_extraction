{
 "cells": [
  {
   "cell_type": "markdown",
   "metadata": {},
   "source": [
    "### <center>Food Nutritions 🦅</center> "
   ]
  },
  {
   "cell_type": "markdown",
   "metadata": {},
   "source": [
    "### *Siddeg Hamid*"
   ]
  },
  {
   "cell_type": "code",
   "execution_count": 3,
   "metadata": {},
   "outputs": [],
   "source": [
    "import json"
   ]
  },
  {
   "cell_type": "markdown",
   "metadata": {},
   "source": [
    "## Reading File 🎲"
   ]
  },
  {
   "cell_type": "markdown",
   "metadata": {},
   "source": [
    "We start by reading the contents of our file, showing differet products. We will go through a deep analysis of the nutrition facts for each product."
   ]
  },
  {
   "cell_type": "code",
   "execution_count": 434,
   "metadata": {},
   "outputs": [],
   "source": [
    "#open the file\n",
    "with open('food.json', 'r') as f:\n",
    "  data = json.load(f)"
   ]
  },
  {
   "cell_type": "markdown",
   "metadata": {},
   "source": [
    "### Products Name  🗂"
   ]
  },
  {
   "cell_type": "code",
   "execution_count": 404,
   "metadata": {},
   "outputs": [
    {
     "name": "stdout",
     "output_type": "stream",
     "text": [
      "\n",
      "\n",
      "Muesli (Almond), Wholegrain Rolled Oats, Almond Milk, Soy Milk, Firm Tofu, Hummus, Hummus (Lite), Hummus Flavored, Peanut Butter, Peanut Butter Crunchy, Tahini, Butter Beans, Kidney Beans, Chickpeas, Lentils, Cannellini Beans, Kiwifruit, Apple (Granny Smith), Apple (Pink Lady), Banana, Navel Orange, Avocado, Broccoli, Spinach, Baby Spinach, Bok Choy, Brussels Sprouts, Sweet Potato, Eggplant, Cup Mushrooms, Cucumber, Red Capcicum, Dried Apricots, Almonds, Walnuts, Cashews, Flaxseed, Pumpkin Seeds, Wholegrain Wraps, Wholegrain Pasta, Brown Rice, Rice Cakes, Rice Crackers, Rice+Pea Protein Powder, Sweet William Chocolate, Chips (Chilli & Sea Salt), "
     ]
    }
   ],
   "source": [
    "print('\\n')\n",
    "product_name = []\n",
    "for product in data['products']:\n",
    "    a = product['name']\n",
    "    product_name.append(a)\n",
    "    print(a, end=', ')"
   ]
  },
  {
   "cell_type": "markdown",
   "metadata": {},
   "source": [
    "## Products Details 🗝\n",
    "\n",
    "`Showing more information about the prodcuts.`"
   ]
  },
  {
   "cell_type": "code",
   "execution_count": 405,
   "metadata": {},
   "outputs": [
    {
     "name": "stdout",
     "output_type": "stream",
     "text": [
      "\n",
      "\n",
      "coles-muslie-almond, coles-rolled-oats-wholegrain, sanitarium-almond-milk, coles-soy-milk-regular, simply-better-organic-tofu-plain-firm, sss-hummus-dip, coles-hummus-lite, coles-hummus, sanitarium-natural-peanut-butter-crunchy, macro-organic-peanut-butter-crunchy, macro-organic-tahini-unhulled, coles-butter-beans-organic, coles-red-kidney-beans-organic, coles-chick-peas-organic, coles-lentils, edgell-cannellini-beans, fruit-kiwifruit-fresh-raw, fruit-apple-granny-smith-fresh-raw, fruit-apple-pink-lady-fresh-raw, fruit-banana-fresh-raw, fruit-orange-navel-fresh-raw, fruit-avocado-fresh, veg-broccoli-fresh, veg-spinach-fresh, veg-baby-spinach-leaves-fresh, veg-bok-choy-fresh, veg-brussels-sprout-raw, veg-sweet-potato-fresh, veg-eggplant-fresh, veg-mushrooms-cup-fresh, veg-cucumber-continental-fresh, veg-capsicum-red-fresh, coles-dried-apricots, coles-almonds-natural, coles-walnuts-natural-californian, coles-cashews-salted, coles-flaxseed, seed-pumpkin-dried, mission-wraps-wholegrain, sanremo-wholegrain-pasta, sunrice-brown-rice-uncooked, pureharvest-organic-rice-cakes, arnotts-vita-wheat-rice-crackers-multigrain, supl-protein-pea-rice-mix, sweet-william-choc-original, red-rock-chips-chilli-salt, "
     ]
    }
   ],
   "source": [
    "print('\\n')\n",
    "for product in data['products']:\n",
    "    a = product['id']\n",
    "    print(a, end=', ')"
   ]
  },
  {
   "cell_type": "markdown",
   "metadata": {},
   "source": [
    "### Nutrition Elements  🌽\n",
    "\n",
    "`The following are the nutrition elements of each product in our json files.`"
   ]
  },
  {
   "cell_type": "code",
   "execution_count": 198,
   "metadata": {},
   "outputs": [
    {
     "name": "stdout",
     "output_type": "stream",
     "text": [
      "\n",
      "\n",
      "['energy', 'protein', 'fat', 'saturated-fat', 'carbohydrate', 'sugars', 'dietary-fibre', 'sodium', 'energy', 'protein', 'fat', 'saturated-fat', 'carbohydrate', 'sugars', 'dietary-fibre', 'sodium', 'potassium']\n",
      "\n",
      "\n"
     ]
    }
   ],
   "source": [
    "items = []\n",
    "for product in data['products']:\n",
    "    nuts = product['nutrition-per-100']\n",
    "    for nut in nuts:\n",
    "        a = nut[0:]\n",
    "        items.append(a)\n",
    "print('\\n')\n",
    "print(items[0:17])\n",
    "print('\\n')"
   ]
  },
  {
   "cell_type": "markdown",
   "metadata": {},
   "source": [
    "### Nutritions Values 📶\n",
    "\n",
    "`The following are the product names associated with elements & nutrition values of our products. We will display the first 2 products from the product_list`"
   ]
  },
  {
   "cell_type": "code",
   "execution_count": 308,
   "metadata": {},
   "outputs": [
    {
     "name": "stdout",
     "output_type": "stream",
     "text": [
      "\n",
      "\n"
     ]
    },
    {
     "data": {
      "text/plain": [
       "['Muesli (Almond)',\n",
       " ('energy', 1560),\n",
       " ('protein', 12.3),\n",
       " ('fat', 9.9),\n",
       " ('saturated-fat', 2.8),\n",
       " ('carbohydrate', 51.7),\n",
       " ('sugars', 19.7),\n",
       " ('dietary-fibre', 13),\n",
       " ('sodium', 6)]"
      ]
     },
     "execution_count": 308,
     "metadata": {},
     "output_type": "execute_result"
    }
   ],
   "source": [
    "product_list = []\n",
    "for e in data['products']:\n",
    "    name = e['name']\n",
    "    nut = e['nutrition-per-100']\n",
    "    product_list.append(name)\n",
    "    for k, v in nut.items():\n",
    "        if k != '_id':\n",
    "            to_tup = (k,v)\n",
    "            #print(k, v)\n",
    "            product_list.append(to_tup)\n",
    "print('\\n')\n",
    "product_list[0:9]"
   ]
  },
  {
   "cell_type": "code",
   "execution_count": 310,
   "metadata": {},
   "outputs": [
    {
     "data": {
      "text/plain": [
       "['Wholegrain Rolled Oats',\n",
       " ('energy', 1680),\n",
       " ('protein', 13.3),\n",
       " ('fat', 9.8),\n",
       " ('saturated-fat', 1.7),\n",
       " ('carbohydrate', 60.3),\n",
       " ('sugars', 1.2),\n",
       " ('dietary-fibre', 0.0086),\n",
       " ('sodium', 7),\n",
       " ('potassium', 313)]"
      ]
     },
     "execution_count": 310,
     "metadata": {},
     "output_type": "execute_result"
    }
   ],
   "source": [
    "product_list[9:19]"
   ]
  },
  {
   "cell_type": "code",
   "execution_count": 320,
   "metadata": {},
   "outputs": [
    {
     "data": {
      "text/plain": [
       "['Almond Milk',\n",
       " ('energy', 130),\n",
       " ('protein', 0.5),\n",
       " ('fat', 1.2),\n",
       " ('saturated-fat', 0.1),\n",
       " ('trans-fat', 0),\n",
       " ('polyunsaturated-fat', 0.3),\n",
       " ('monounsaturated-fat', 0.8),\n",
       " ('carbohydrate', 4.6),\n",
       " ('sugars', 4.4),\n",
       " ('dietary-fibre', 0.3),\n",
       " ('sodium', 35),\n",
       " ('potassium', 15),\n",
       " ('calcium', 75),\n",
       " ('vitamin-e', 0.4)]"
      ]
     },
     "execution_count": 320,
     "metadata": {},
     "output_type": "execute_result"
    }
   ],
   "source": [
    "product_list[19:34]"
   ]
  },
  {
   "cell_type": "markdown",
   "metadata": {},
   "source": [
    "### High Energy Product 💪🏼\n",
    "\n",
    "`Showing products that good source of energy. Energy that are equals or greater than 15,000 we consider the product as high in energy.`"
   ]
  },
  {
   "cell_type": "code",
   "execution_count": 396,
   "metadata": {},
   "outputs": [
    {
     "name": "stdout",
     "output_type": "stream",
     "text": [
      "\n",
      "\n",
      "['Muesli (Almond)', ('energy', 1560), 'Wholegrain Rolled Oats', ('energy', 1680), 'Peanut Butter', ('energy', 2580), 'Peanut Butter Crunchy', ('energy', 2670), 'Tahini', ('energy', 2760), 'Almonds', ('energy', 2575), 'Walnuts', ('energy', 2938), 'Cashews', ('energy', 2530), 'Flaxseed', ('energy', 1900), 'Rice Cakes', ('energy', 1620), 'Rice Crackers', ('energy', 1960), 'Sweet William Chocolate', ('energy', 2160), 'Chips (Chilli & Sea Salt)', ('energy', 2050)]\n"
     ]
    }
   ],
   "source": [
    "energy_list = []\n",
    "for e in data['products']:\n",
    "    nut = e['nutrition-per-100']\n",
    "    for k, v in nut.items():\n",
    "        if k != '_id':\n",
    "            name = e['name']\n",
    "            to_tup = (k,v)\n",
    "            if k == 'energy' and v >= 1500:\n",
    "                energy_list.append(name)\n",
    "                energy_list.append(to_tup)\n",
    "print('\\n')\n",
    "print(energy_list)"
   ]
  },
  {
   "cell_type": "markdown",
   "metadata": {},
   "source": [
    "### Protein Source  🐄\n",
    "\n",
    "`Products that contain protein more 10 per 100 gram, we will be considered as a good source of protein.`"
   ]
  },
  {
   "cell_type": "code",
   "execution_count": 397,
   "metadata": {},
   "outputs": [
    {
     "name": "stdout",
     "output_type": "stream",
     "text": [
      "\n",
      "\n",
      "['Muesli (Almond)', ('protein', 12.3), 'Wholegrain Rolled Oats', ('protein', 13.3), 'Firm Tofu', ('protein', 15.9), 'Peanut Butter', ('protein', 28), 'Peanut Butter Crunchy', ('protein', 28.4), 'Tahini', ('protein', 25.6), 'Almonds', ('protein', 24.1), 'Walnuts', ('protein', 15.9), 'Cashews', ('protein', 19.6), 'Flaxseed', ('protein', 18), 'Pumpkin Seeds', ('protein', 30.23), 'Wholegrain Pasta', ('protein', 13), 'Rice+Pea Protein Powder', ('protein', 81.65)]\n"
     ]
    }
   ],
   "source": [
    "protein_list = []\n",
    "for e in data['products']:\n",
    "    nut = e['nutrition-per-100']\n",
    "    for k, v in nut.items():\n",
    "        if k != '_id':\n",
    "            name = e['name']\n",
    "            to_tup = (k,v)\n",
    "            if k == 'protein' and v >= 10:\n",
    "                protein_list.append(name)\n",
    "                protein_list.append(to_tup)\n",
    "print('\\n')\n",
    "print(protein_list)"
   ]
  },
  {
   "cell_type": "markdown",
   "metadata": {},
   "source": [
    "### Dietary Fibre  🌰\n",
    "\n",
    "`Dietary fibre helps keep the gut healthy and is important in helping to reduce the risk of diseases such as diabetes, coronary heart disease and bowel cancer2. Fibre value of more than 3 per 100 gram is a good source of fibre`"
   ]
  },
  {
   "cell_type": "code",
   "execution_count": 398,
   "metadata": {},
   "outputs": [
    {
     "name": "stdout",
     "output_type": "stream",
     "text": [
      "\n",
      "\n",
      "['Muesli (Almond)', ('dietary-fibre', 13), 'Hummus', ('dietary-fibre', 11), 'Peanut Butter', ('dietary-fibre', 6), 'Butter Beans', ('dietary-fibre', 7), 'Kidney Beans', ('dietary-fibre', 7.3), 'Chickpeas', ('dietary-fibre', 7), 'Cannellini Beans', ('dietary-fibre', 5.6), 'Avocado', ('dietary-fibre', 6.7), 'Dried Apricots', ('dietary-fibre', 7.5), 'Almonds', ('dietary-fibre', 10), 'Flaxseed', ('dietary-fibre', 27.3), 'Pumpkin Seeds', ('dietary-fibre', 6), 'Wholegrain Pasta', ('dietary-fibre', 13), 'Sweet William Chocolate', ('dietary-fibre', 6)]\n"
     ]
    }
   ],
   "source": [
    "fibre_list = []\n",
    "for e in data['products']:\n",
    "    nut = e['nutrition-per-100']\n",
    "    for k, v in nut.items():\n",
    "        if k != '_id':\n",
    "            name = e['name']\n",
    "            to_tup = (k,v)\n",
    "            if k == 'dietary-fibre' and v >= 5:\n",
    "                fibre_list.append(name)\n",
    "                fibre_list.append(to_tup)\n",
    "print('\\n')\n",
    "print(fibre_list)"
   ]
  },
  {
   "cell_type": "markdown",
   "metadata": {},
   "source": [
    "### Carboyhdrate Source  🍆\n",
    "\n",
    "`Carbohydrate is a must element for our body. We will focus on the products that are low in carbohydrate.`"
   ]
  },
  {
   "cell_type": "code",
   "execution_count": 399,
   "metadata": {},
   "outputs": [
    {
     "name": "stdout",
     "output_type": "stream",
     "text": [
      "\n",
      "\n",
      "['Almond Milk', ('carbohydrate', 4.6), 'Soy Milk', ('carbohydrate', 4.7), 'Firm Tofu', ('carbohydrate', 0.3), 'Hummus', ('carbohydrate', 4.6), 'Avocado', ('carbohydrate', 8.53), 'Broccoli', ('carbohydrate', 6.64), 'Spinach', ('carbohydrate', 3.6), 'Baby Spinach', ('carbohydrate', 3.6), 'Bok Choy', ('carbohydrate', 2.2), 'Brussels Sprouts', ('carbohydrate', 8.95), 'Eggplant', ('carbohydrate', 5.88), 'Cup Mushrooms', ('carbohydrate', 4.1), 'Cucumber', ('carbohydrate', 3.63), 'Red Capcicum', ('carbohydrate', 4.64), 'Almonds', ('carbohydrate', 6.2), 'Walnuts', ('carbohydrate', 4.3), 'Rice+Pea Protein Powder', ('carbohydrate', 3.8)]\n"
     ]
    }
   ],
   "source": [
    "carbo_list = []\n",
    "for e in data['products']:\n",
    "    nut = e['nutrition-per-100']\n",
    "    for k, v in nut.items():\n",
    "        if k != '_id':\n",
    "            name = e['name']\n",
    "            to_tup = (k,v)\n",
    "            if k == 'carbohydrate' and v < 10:\n",
    "                carbo_list.append(name)\n",
    "                carbo_list.append(to_tup)\n",
    "print('\\n')\n",
    "print(carbo_list)"
   ]
  },
  {
   "cell_type": "markdown",
   "metadata": {},
   "source": [
    "### Vitamines B & C  🥑 \n",
    "\n",
    "`Healthy stuff, products that contain either vitamin b or c or both but only one vitamine is shown. We can see that the majority are vegetables, which is my favourite list.`"
   ]
  },
  {
   "cell_type": "code",
   "execution_count": 400,
   "metadata": {},
   "outputs": [
    {
     "name": "stdout",
     "output_type": "stream",
     "text": [
      "\n",
      "\n",
      "['Peanut Butter', ('vitamin-b3', 12), 'Apple (Granny Smith)', ('vitamin-b2', 0.026), 'Apple (Granny Smith)', ('vitamin-b3', 0.091), 'Avocado', ('vitamin-b2', 0.13), 'Avocado', ('vitamin-b3', 1.738), 'Spinach', ('vitamin-b2', 0.189), 'Baby Spinach', ('vitamin-b2', 0.189), 'Cup Mushrooms', ('vitamin-b2', 0.5), 'Cup Mushrooms', ('vitamin-b3', 3.8), 'Brown Rice', ('vitamin-b3', 6.4)]\n"
     ]
    }
   ],
   "source": [
    "vit_list = []\n",
    "for e in data['products']:\n",
    "    nut = e['nutrition-per-100']\n",
    "    for k, v in nut.items():\n",
    "        if k != '_id':\n",
    "            name = e['name']\n",
    "            to_tup = (k,v)\n",
    "            if k == ('vitamin-b2') or (k == 'vitamin-b3'):\n",
    "                vit_list.append(name)\n",
    "                vit_list.append(to_tup)\n",
    "print('\\n')\n",
    "print(vit_list)"
   ]
  },
  {
   "cell_type": "markdown",
   "metadata": {},
   "source": [
    "### Cut Sugar  💀 \n",
    "\n",
    "`5g of total sugars or less per 100g is low and considered to be good and healthy. If the amount of sugars per 100g is between these figures, it's a medium amount of sugar.`"
   ]
  },
  {
   "cell_type": "code",
   "execution_count": 401,
   "metadata": {},
   "outputs": [
    {
     "name": "stdout",
     "output_type": "stream",
     "text": [
      "\n",
      "\n",
      "['Dried Apricots', ('sugars', 45), 'Sweet William Chocolate', ('sugars', 42.4)]\n"
     ]
    }
   ],
   "source": [
    "sugar_list = []\n",
    "for e in data['products']:\n",
    "    nut = e['nutrition-per-100']\n",
    "    for k, v in nut.items():\n",
    "        if k != '_id':\n",
    "            name = e['name']\n",
    "            to_tup = (k,v)\n",
    "            if k == 'sugars' and v > 20.0:\n",
    "                sugar_list.append(name)\n",
    "                sugar_list.append(to_tup)\n",
    "print('\\n')\n",
    "print(sugar_list)"
   ]
  },
  {
   "cell_type": "markdown",
   "metadata": {},
   "source": [
    "### Bad Fat  🍩\n",
    "\n",
    "`It's recommended that men and women should not take an amount of fat that is greater than 20g a day.`"
   ]
  },
  {
   "cell_type": "code",
   "execution_count": 402,
   "metadata": {},
   "outputs": [
    {
     "name": "stdout",
     "output_type": "stream",
     "text": [
      "\n",
      "\n",
      "['Peanut Butter', ('fat', 50), 'Peanut Butter Crunchy', ('fat', 50.9), 'Tahini', ('fat', 57.3), 'Almonds', ('fat', 53.5), 'Walnuts', ('fat', 69.2), 'Cashews', ('fat', 48.8), 'Flaxseed', ('fat', 34), 'Pumpkin Seeds', ('fat', 49.05), 'Sweet William Chocolate', ('fat', 31), 'Chips (Chilli & Sea Salt)', ('fat', 23.4)]\n"
     ]
    }
   ],
   "source": [
    "fat_list = []\n",
    "for e in data['products']:\n",
    "    nut = e['nutrition-per-100']\n",
    "    for k, v in nut.items():\n",
    "        if k != '_id':\n",
    "            name = e['name']\n",
    "            to_tup = (k,v)\n",
    "            if k == 'fat' and v > 20.0:\n",
    "                fat_list.append(name)\n",
    "                fat_list.append(to_tup)\n",
    "print('\\n')\n",
    "print(fat_list)"
   ]
  },
  {
   "cell_type": "markdown",
   "metadata": {},
   "source": [
    "### Best Meals  🍲\n",
    "\n",
    "Choose higher fibre or wholegrain varieties, such as wholewheat pasta, brown rice or potatoes with their skins on.\n",
    "They contain more fibre than white or refined starchy carbohydrates and can help you feel full for longer.\n",
    "Try to include at least 1 starchy food with each main meal. Some people think starchy foods are fattening, but gram for gram the carbohydrate they contain provides fewer than half the calories of fat. Keep an eye on the fats you add when you're cooking or serving these types of foods because that's what increases the calorie content – for example, oil on chips, butter on bread and creamy sauces on pasta."
   ]
  },
  {
   "cell_type": "markdown",
   "metadata": {},
   "source": [
    "### Data URL\n",
    "\n",
    "`Json file was downloaded from the following source:`\n",
    "\n",
    "https://raw.githubusercontent.com/noizwaves/nutrition/master/data/food.json"
   ]
  },
  {
   "cell_type": "code",
   "execution_count": null,
   "metadata": {},
   "outputs": [],
   "source": []
  }
 ],
 "metadata": {
  "kernelspec": {
   "display_name": "Python 3",
   "language": "python",
   "name": "python3"
  },
  "language_info": {
   "codemirror_mode": {
    "name": "ipython",
    "version": 3
   },
   "file_extension": ".py",
   "mimetype": "text/x-python",
   "name": "python",
   "nbconvert_exporter": "python",
   "pygments_lexer": "ipython3",
   "version": "3.7.3"
  }
 },
 "nbformat": 4,
 "nbformat_minor": 2
}
